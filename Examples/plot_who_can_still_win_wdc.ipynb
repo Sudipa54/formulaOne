{
 "cells": [
  {
   "cell_type": "code",
   "execution_count": 1,
   "metadata": {
    "collapsed": false
   },
   "outputs": [],
   "source": [
    "%matplotlib inline"
   ]
  },
  {
   "cell_type": "markdown",
   "metadata": {},
   "source": [
    "# Who can still win the drivers WDC?\n",
    "\n",
    "Calculates which drivers still has chance to win the WDC.\n",
    "Simplified since it doesn't compare positions if points are equal.\n",
    "\n",
    "This example implements 3 functions that it then uses to calculate\n",
    "it's result.\n"
   ]
  },
  {
   "cell_type": "code",
   "execution_count": 2,
   "metadata": {
    "collapsed": false
   },
   "outputs": [],
   "source": [
    "import requests\n",
    "import fastf1\n",
    "\n",
    "fastf1.Cache.enable_cache(\"../doc_cache\")  # replace with your cache directory"
   ]
  },
  {
   "cell_type": "markdown",
   "metadata": {},
   "source": [
    "We need a function to get the current driver standings from\n",
    "Ergast and returns as list of drivers.\n",
    "Reference https://ergast.com/mrd/methods/standings/\n",
    "\n"
   ]
  },
  {
   "cell_type": "code",
   "execution_count": 3,
   "metadata": {
    "collapsed": false
   },
   "outputs": [],
   "source": [
    "def get_drivers_standings():\n",
    "    url = \"https://ergast.com/api/f1/current/driverStandings.json\"\n",
    "    response = requests.get(url)\n",
    "    data = response.json()\n",
    "    drivers_standings = data['MRData']['StandingsTable']['StandingsLists'][0]['DriverStandings']  # noqa: E501\n",
    "    return drivers_standings"
   ]
  },
  {
   "cell_type": "markdown",
   "metadata": {},
   "source": [
    "We need a function to calculates the maximum amount of points possible if a\n",
    "driver wins everything left of the season.\n",
    "https://en.wikipedia.org/wiki/List_of_Formula_One_World_Championship_points_scoring_systems\n",
    "\n"
   ]
  },
  {
   "cell_type": "code",
   "execution_count": 4,
   "metadata": {
    "collapsed": false
   },
   "outputs": [],
   "source": [
    "def calculate_max_points_for_remaining_season():\n",
    "    POINTS_FOR_SPRINT = 8 + 25 + 1  # Winning the sprint, race and fastest lap\n",
    "    POINTS_FOR_CONVENTIONAL = 25 + 1  # Winning the race and fastest lap\n",
    "\n",
    "    events = fastf1.events.get_events_remaining()\n",
    "    # Count how many sprints and conventional races are left\n",
    "    sprint_events = \\\n",
    "        len(events.loc[events[\"EventFormat\"] == \"sprint\"])\n",
    "    conventional_events = \\\n",
    "        len(events.loc[events[\"EventFormat\"] == \"conventional\"])\n",
    "\n",
    "    # Calculate points for each\n",
    "    sprint_points = sprint_events * POINTS_FOR_SPRINT\n",
    "    conventional_points = conventional_events * POINTS_FOR_CONVENTIONAL\n",
    "\n",
    "    return sprint_points + conventional_points"
   ]
  },
  {
   "cell_type": "markdown",
   "metadata": {},
   "source": [
    "For each driver we will see if there is a chance to get more points than\n",
    "the current leader. We assume the leader gets no more points and the\n",
    "driver gets the theoretical maximum amount of points.\n",
    "\n",
    "We currently don't consider the case of two drivers getting equal points\n",
    "since its more complicated and would require comparing positions.\n",
    "\n"
   ]
  },
  {
   "cell_type": "code",
   "execution_count": 5,
   "metadata": {
    "collapsed": false
   },
   "outputs": [],
   "source": [
    "def calculate_who_can_win(driver_standings, max_points):\n",
    "    LEADER_POINTS = int(driver_standings[0]['points'])\n",
    "\n",
    "    for _, driver in enumerate(driver_standings):\n",
    "        driver_max_points = int(driver[\"points\"]) + max_points\n",
    "        can_win = 'No' if driver_max_points < LEADER_POINTS else 'Yes'\n",
    "\n",
    "        print(f\"{driver['position']}: \\\n",
    "{driver['Driver']['code']}, \\\n",
    "Current points: {driver['points']}, \\\n",
    "Theoretical max points: {driver_max_points}, \\\n",
    "Can win: {can_win}\")"
   ]
  },
  {
   "cell_type": "markdown",
   "metadata": {},
   "source": [
    "Now using the 3 functions above we can use them to calculate who\n",
    "can still win.\n",
    "\n"
   ]
  },
  {
   "cell_type": "code",
   "execution_count": 6,
   "metadata": {
    "collapsed": false
   },
   "outputs": [
    {
     "name": "stdout",
     "output_type": "stream",
     "text": [
      "1: VER, Current points: 69, Theoretical max points: 637, Can win: Yes\n",
      "2: PER, Current points: 54, Theoretical max points: 622, Can win: Yes\n",
      "3: ALO, Current points: 45, Theoretical max points: 613, Can win: Yes\n",
      "4: HAM, Current points: 38, Theoretical max points: 606, Can win: Yes\n",
      "5: SAI, Current points: 20, Theoretical max points: 588, Can win: Yes\n",
      "6: STR, Current points: 20, Theoretical max points: 588, Can win: Yes\n",
      "7: RUS, Current points: 18, Theoretical max points: 586, Can win: Yes\n",
      "8: NOR, Current points: 8, Theoretical max points: 576, Can win: Yes\n",
      "9: HUL, Current points: 6, Theoretical max points: 574, Can win: Yes\n",
      "10: LEC, Current points: 6, Theoretical max points: 574, Can win: Yes\n",
      "11: BOT, Current points: 4, Theoretical max points: 572, Can win: Yes\n",
      "12: OCO, Current points: 4, Theoretical max points: 572, Can win: Yes\n",
      "13: PIA, Current points: 4, Theoretical max points: 572, Can win: Yes\n",
      "14: GAS, Current points: 4, Theoretical max points: 572, Can win: Yes\n",
      "15: ZHO, Current points: 2, Theoretical max points: 570, Can win: Yes\n",
      "16: TSU, Current points: 1, Theoretical max points: 569, Can win: Yes\n",
      "17: MAG, Current points: 1, Theoretical max points: 569, Can win: Yes\n",
      "18: ALB, Current points: 1, Theoretical max points: 569, Can win: Yes\n",
      "19: SAR, Current points: 0, Theoretical max points: 568, Can win: Yes\n",
      "20: DEV, Current points: 0, Theoretical max points: 568, Can win: Yes\n"
     ]
    }
   ],
   "source": [
    "# Get the current drivers standings\n",
    "driver_standings = get_drivers_standings()\n",
    "\n",
    "# Get the maximum amount of points\n",
    "points = calculate_max_points_for_remaining_season()\n",
    "\n",
    "# Print which drivers can still win\n",
    "calculate_who_can_win(driver_standings, points)"
   ]
  }
 ],
 "metadata": {
  "kernelspec": {
   "display_name": "Python 3",
   "language": "python",
   "name": "python3"
  },
  "language_info": {
   "codemirror_mode": {
    "name": "ipython",
    "version": 3
   },
   "file_extension": ".py",
   "mimetype": "text/x-python",
   "name": "python",
   "nbconvert_exporter": "python",
   "pygments_lexer": "ipython3",
   "version": "3.9.16"
  }
 },
 "nbformat": 4,
 "nbformat_minor": 0
}
